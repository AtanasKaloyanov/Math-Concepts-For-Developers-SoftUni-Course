{
 "cells": [
  {
   "cell_type": "code",
   "execution_count": 1,
   "id": "079f3d29",
   "metadata": {},
   "outputs": [],
   "source": [
    "import scipy.stats as st\n",
    "\n",
    "def get_real_confidence_interval(probability, mean, std):\n",
    "    lower_area = (1 - probability) / 2\n",
    "    upper_area = (1 + probability) / 2\n",
    "    return [\n",
    "      st.norm.ppf(lower_area, mean, std),\n",
    "      st.norm.ppf(upper_area, mean, std)]"
   ]
  },
  {
   "cell_type": "code",
   "execution_count": null,
   "id": "b187c50c",
   "metadata": {},
   "outputs": [],
   "source": []
  }
 ],
 "metadata": {
  "kernelspec": {
   "display_name": "Python 3 (ipykernel)",
   "language": "python",
   "name": "python3"
  },
  "language_info": {
   "codemirror_mode": {
    "name": "ipython",
    "version": 3
   },
   "file_extension": ".py",
   "mimetype": "text/x-python",
   "name": "python",
   "nbconvert_exporter": "python",
   "pygments_lexer": "ipython3",
   "version": "3.11.5"
  }
 },
 "nbformat": 4,
 "nbformat_minor": 5
}
