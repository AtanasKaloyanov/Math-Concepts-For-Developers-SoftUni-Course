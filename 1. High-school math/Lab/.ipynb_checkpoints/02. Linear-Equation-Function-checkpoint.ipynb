{
 "cells": [
  {
   "cell_type": "markdown",
   "id": "b49fc4b0",
   "metadata": {},
   "source": [
    "# Linear equation function \n",
    "\n",
    " ## ax + b = 0 "
   ]
  },
  {
   "cell_type": "code",
   "execution_count": 1,
   "id": "0a55aa7d",
   "metadata": {},
   "outputs": [],
   "source": [
    "import math\n",
    "def solve_linear_equation(a, b):\n",
    "    if a == 0:\n",
    "        if b == 0:\n",
    "            return []\n",
    "        else:\n",
    "            return math.nan\n",
    "    else:\n",
    "        return - b / a"
   ]
  },
  {
   "cell_type": "raw",
   "id": "d55d2a75",
   "metadata": {},
   "source": [
    "a = 0, b = 0\n",
    "0.x + 0 = 0 => every x is solution"
   ]
  },
  {
   "cell_type": "code",
   "execution_count": 2,
   "id": "5b6b1f2d",
   "metadata": {},
   "outputs": [
    {
     "data": {
      "text/plain": [
       "[]"
      ]
     },
     "execution_count": 2,
     "metadata": {},
     "output_type": "execute_result"
    }
   ],
   "source": [
    "solve_linear_equation(0, 0)"
   ]
  },
  {
   "cell_type": "raw",
   "id": "6a3a8f3a",
   "metadata": {},
   "source": [
    "a = 0, b = 1\n",
    "0.x + 1 = 0 => no solution"
   ]
  },
  {
   "cell_type": "code",
   "execution_count": 4,
   "id": "b8352304",
   "metadata": {},
   "outputs": [
    {
     "data": {
      "text/plain": [
       "nan"
      ]
     },
     "execution_count": 4,
     "metadata": {},
     "output_type": "execute_result"
    }
   ],
   "source": [
    "solve_linear_equation(0, 1)"
   ]
  },
  {
   "cell_type": "raw",
   "id": "11cec123",
   "metadata": {},
   "source": [
    "a = 1, b = 1\n",
    "1.x + 1 = 0 => x = - b / a\n",
    "x = - 1 / 1 = -1"
   ]
  },
  {
   "cell_type": "code",
   "execution_count": 5,
   "id": "068a264d",
   "metadata": {},
   "outputs": [
    {
     "data": {
      "text/plain": [
       "-1.0"
      ]
     },
     "execution_count": 5,
     "metadata": {},
     "output_type": "execute_result"
    }
   ],
   "source": [
    "solve_linear_equation(1, 1)"
   ]
  }
 ],
 "metadata": {
  "kernelspec": {
   "display_name": "Python 3 (ipykernel)",
   "language": "python",
   "name": "python3"
  },
  "language_info": {
   "codemirror_mode": {
    "name": "ipython",
    "version": 3
   },
   "file_extension": ".py",
   "mimetype": "text/x-python",
   "name": "python",
   "nbconvert_exporter": "python",
   "pygments_lexer": "ipython3",
   "version": "3.11.5"
  }
 },
 "nbformat": 4,
 "nbformat_minor": 5
}
