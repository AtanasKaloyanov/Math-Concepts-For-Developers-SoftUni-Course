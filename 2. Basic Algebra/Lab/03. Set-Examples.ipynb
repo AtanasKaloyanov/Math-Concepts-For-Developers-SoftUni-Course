{
 "cells": [
  {
   "cell_type": "code",
   "execution_count": 6,
   "id": "80e8fe92",
   "metadata": {},
   "outputs": [],
   "source": [
    "positive_y = {y for y in range(-10, 10) if y >= 0}"
   ]
  },
  {
   "cell_type": "code",
   "execution_count": 7,
   "id": "bd998dc9",
   "metadata": {},
   "outputs": [
    {
     "name": "stdout",
     "output_type": "stream",
     "text": [
      "{0, 1, 2, 3, 4, 5, 6, 7, 8, 9}\n"
     ]
    }
   ],
   "source": [
    "print(positive_y)"
   ]
  },
  {
   "cell_type": "code",
   "execution_count": 8,
   "id": "5c3f894e",
   "metadata": {},
   "outputs": [],
   "source": [
    "set1 = {1, 2, 3, 4, 5}\n",
    "set2 = {3, 4, 5, 10, 3, 5, 10, 3, 3}"
   ]
  },
  {
   "cell_type": "code",
   "execution_count": 10,
   "id": "15dd0057",
   "metadata": {},
   "outputs": [
    {
     "name": "stdout",
     "output_type": "stream",
     "text": [
      "4\n"
     ]
    }
   ],
   "source": [
    "print(len(set2))"
   ]
  },
  {
   "cell_type": "code",
   "execution_count": 12,
   "id": "fac3959a",
   "metadata": {},
   "outputs": [
    {
     "name": "stdout",
     "output_type": "stream",
     "text": [
      "True\n",
      "True\n"
     ]
    }
   ],
   "source": [
    "print(4 in set1)\n",
    "print(10 not in set1)"
   ]
  },
  {
   "cell_type": "code",
   "execution_count": 14,
   "id": "c0a0c91f",
   "metadata": {},
   "outputs": [
    {
     "name": "stdout",
     "output_type": "stream",
     "text": [
      "False\n"
     ]
    }
   ],
   "source": [
    "print({1, 10}.issubset(set1))"
   ]
  },
  {
   "cell_type": "code",
   "execution_count": 15,
   "id": "12318b96",
   "metadata": {},
   "outputs": [
    {
     "name": "stdout",
     "output_type": "stream",
     "text": [
      "{1, 2, 3, 4, 5, 10}\n"
     ]
    }
   ],
   "source": [
    "print(set1.union(set2))"
   ]
  },
  {
   "cell_type": "code",
   "execution_count": 16,
   "id": "0be2fdc4",
   "metadata": {},
   "outputs": [
    {
     "name": "stdout",
     "output_type": "stream",
     "text": [
      "{1, 2}\n",
      "{10}\n"
     ]
    }
   ],
   "source": [
    "print(set1.difference(set2))\n",
    "print(set2.difference(set1))"
   ]
  },
  {
   "cell_type": "code",
   "execution_count": 17,
   "id": "5a6683a2",
   "metadata": {},
   "outputs": [
    {
     "name": "stdout",
     "output_type": "stream",
     "text": [
      "{1, 2, 10}\n"
     ]
    }
   ],
   "source": [
    "print(set1.symmetric_difference(set2))"
   ]
  },
  {
   "cell_type": "code",
   "execution_count": 18,
   "id": "8416220a",
   "metadata": {},
   "outputs": [
    {
     "name": "stdout",
     "output_type": "stream",
     "text": [
      "{3, 4, 5}\n"
     ]
    }
   ],
   "source": [
    "print(set1.intersection(set2))"
   ]
  },
  {
   "cell_type": "code",
   "execution_count": null,
   "id": "c0c31fd1",
   "metadata": {},
   "outputs": [],
   "source": []
  }
 ],
 "metadata": {
  "kernelspec": {
   "display_name": "Python 3 (ipykernel)",
   "language": "python",
   "name": "python3"
  },
  "language_info": {
   "codemirror_mode": {
    "name": "ipython",
    "version": 3
   },
   "file_extension": ".py",
   "mimetype": "text/x-python",
   "name": "python",
   "nbconvert_exporter": "python",
   "pygments_lexer": "ipython3",
   "version": "3.11.5"
  }
 },
 "nbformat": 4,
 "nbformat_minor": 5
}
