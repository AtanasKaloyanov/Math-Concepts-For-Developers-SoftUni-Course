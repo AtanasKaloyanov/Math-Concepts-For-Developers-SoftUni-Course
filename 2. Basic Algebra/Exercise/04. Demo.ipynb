{
 "cells": [
  {
   "cell_type": "code",
   "execution_count": 13,
   "id": "d4b02777",
   "metadata": {},
   "outputs": [],
   "source": [
    "def add(a, b):\n",
    "    return a + b"
   ]
  },
  {
   "cell_type": "code",
   "execution_count": 14,
   "id": "3a57ab33",
   "metadata": {},
   "outputs": [
    {
     "data": {
      "text/plain": [
       "8"
      ]
     },
     "execution_count": 14,
     "metadata": {},
     "output_type": "execute_result"
    }
   ],
   "source": [
    "add(5, 3)"
   ]
  },
  {
   "cell_type": "code",
   "execution_count": 15,
   "id": "1c09b3cc",
   "metadata": {},
   "outputs": [],
   "source": [
    "def add_outer(a):\n",
    "    def add_inner(b):\n",
    "        return a + b\n",
    "    return add_inner"
   ]
  },
  {
   "cell_type": "code",
   "execution_count": 16,
   "id": "91a4b816",
   "metadata": {},
   "outputs": [],
   "source": [
    "inner_function = add_outer(5)"
   ]
  },
  {
   "cell_type": "code",
   "execution_count": 17,
   "id": "d45301cf",
   "metadata": {},
   "outputs": [
    {
     "data": {
      "text/plain": [
       "9"
      ]
     },
     "execution_count": 17,
     "metadata": {},
     "output_type": "execute_result"
    }
   ],
   "source": [
    "inner_function(4)"
   ]
  },
  {
   "cell_type": "code",
   "execution_count": 18,
   "id": "85de91fe",
   "metadata": {},
   "outputs": [
    {
     "data": {
      "text/plain": [
       "13"
      ]
     },
     "execution_count": 18,
     "metadata": {},
     "output_type": "execute_result"
    }
   ],
   "source": [
    "add_outer(6)(7)"
   ]
  },
  {
   "cell_type": "code",
   "execution_count": 19,
   "id": "32dfb900",
   "metadata": {},
   "outputs": [
    {
     "data": {
      "text/plain": [
       "True"
      ]
     },
     "execution_count": 19,
     "metadata": {},
     "output_type": "execute_result"
    }
   ],
   "source": [
    "add(5, 3) == add_outer(5)(3)"
   ]
  },
  {
   "cell_type": "code",
   "execution_count": null,
   "id": "5b3592fb",
   "metadata": {},
   "outputs": [],
   "source": []
  }
 ],
 "metadata": {
  "kernelspec": {
   "display_name": "Python 3 (ipykernel)",
   "language": "python",
   "name": "python3"
  },
  "language_info": {
   "codemirror_mode": {
    "name": "ipython",
    "version": 3
   },
   "file_extension": ".py",
   "mimetype": "text/x-python",
   "name": "python",
   "nbconvert_exporter": "python",
   "pygments_lexer": "ipython3",
   "version": "3.11.5"
  }
 },
 "nbformat": 4,
 "nbformat_minor": 5
}
