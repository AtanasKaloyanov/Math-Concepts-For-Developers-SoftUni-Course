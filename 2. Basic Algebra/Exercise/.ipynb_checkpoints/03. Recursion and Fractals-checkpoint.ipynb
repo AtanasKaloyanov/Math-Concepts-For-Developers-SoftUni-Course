{
 "cells": [
  {
   "cell_type": "code",
   "execution_count": 1,
   "id": "e17fa9fb",
   "metadata": {},
   "outputs": [],
   "source": [
    "from turtle import *"
   ]
  },
  {
   "cell_type": "code",
   "execution_count": 2,
   "id": "8c6c0813",
   "metadata": {},
   "outputs": [],
   "source": [
    "def draw_branch(branch_length, angle):\n",
    "    if branch_length > 5:\n",
    "        forward(branch_length)\n",
    "        right(angle)\n",
    "        draw_branch(branch_length - 15, angle)\n",
    "        left(2 * angle)\n",
    "        draw_branch(branch_length - 15, angle)\n",
    "        right(angle)\n",
    "        backward(branch_length)"
   ]
  },
  {
   "cell_type": "code",
   "execution_count": 3,
   "id": "a754fe03",
   "metadata": {},
   "outputs": [],
   "source": [
    "draw_branch(100, 20)"
   ]
  },
  {
   "cell_type": "code",
   "execution_count": 4,
   "id": "a4b75c41",
   "metadata": {},
   "outputs": [],
   "source": [
    "def draw_tree(trunk_length, angle):\n",
    "    speed(\"fastest\")\n",
    "    left(90)\n",
    "    up()\n",
    "    backward(trunk_length)\n",
    "    down()\n",
    "    draw_branch(trunk_length, angle)\n",
    "    done()"
   ]
  },
  {
   "cell_type": "code",
   "execution_count": 5,
   "id": "39460b1e",
   "metadata": {},
   "outputs": [],
   "source": [
    "draw_tree(100, 20)\n",
    "draw_tree(100, 30)\n",
    "draw_tree(100, 45)\n",
    "draw_tree(100, 90)"
   ]
  }
 ],
 "metadata": {
  "kernelspec": {
   "display_name": "Python 3 (ipykernel)",
   "language": "python",
   "name": "python3"
  },
  "language_info": {
   "codemirror_mode": {
    "name": "ipython",
    "version": 3
   },
   "file_extension": ".py",
   "mimetype": "text/x-python",
   "name": "python",
   "nbconvert_exporter": "python",
   "pygments_lexer": "ipython3",
   "version": "3.11.5"
  }
 },
 "nbformat": 4,
 "nbformat_minor": 5
}
