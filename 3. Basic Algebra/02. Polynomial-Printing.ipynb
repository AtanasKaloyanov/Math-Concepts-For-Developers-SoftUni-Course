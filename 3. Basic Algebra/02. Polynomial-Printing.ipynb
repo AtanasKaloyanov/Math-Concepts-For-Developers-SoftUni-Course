{
 "cells": [
  {
   "cell_type": "code",
   "execution_count": 1,
   "id": "5cfe522b",
   "metadata": {},
   "outputs": [],
   "source": [
    "import sympy \n",
    "from sympy.abc import x\n",
    "import numpy.polynomial.polynomial as p"
   ]
  },
  {
   "cell_type": "code",
   "execution_count": 2,
   "id": "88fc5f1a",
   "metadata": {},
   "outputs": [],
   "source": [
    "polynomial = p.Polynomial([-2, 0, 0, 0, 3])"
   ]
  },
  {
   "cell_type": "code",
   "execution_count": 3,
   "id": "c6dd2cb9",
   "metadata": {},
   "outputs": [],
   "source": [
    "sympy.init_printing()"
   ]
  },
  {
   "cell_type": "code",
   "execution_count": 4,
   "id": "b7deabb1",
   "metadata": {},
   "outputs": [
    {
     "name": "stdout",
     "output_type": "stream",
     "text": [
      "3.0*x**4 - 2.0\n"
     ]
    }
   ],
   "source": [
    "print(sympy.Poly(reversed(polynomial.coef), x).as_expr())"
   ]
  },
  {
   "cell_type": "code",
   "execution_count": null,
   "id": "5bfd5e33",
   "metadata": {},
   "outputs": [],
   "source": []
  }
 ],
 "metadata": {
  "kernelspec": {
   "display_name": "Python 3 (ipykernel)",
   "language": "python",
   "name": "python3"
  },
  "language_info": {
   "codemirror_mode": {
    "name": "ipython",
    "version": 3
   },
   "file_extension": ".py",
   "mimetype": "text/x-python",
   "name": "python",
   "nbconvert_exporter": "python",
   "pygments_lexer": "ipython3",
   "version": "3.11.5"
  }
 },
 "nbformat": 4,
 "nbformat_minor": 5
}
