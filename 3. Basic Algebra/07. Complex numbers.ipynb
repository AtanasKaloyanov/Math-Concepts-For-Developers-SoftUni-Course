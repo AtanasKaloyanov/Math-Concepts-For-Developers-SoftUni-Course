{
 "cells": [
  {
   "cell_type": "code",
   "execution_count": 32,
   "id": "93f4b369",
   "metadata": {},
   "outputs": [],
   "source": [
    "import cmath"
   ]
  },
  {
   "cell_type": "code",
   "execution_count": 33,
   "id": "cc516f79",
   "metadata": {},
   "outputs": [
    {
     "name": "stdout",
     "output_type": "stream",
     "text": [
      "2.0\n",
      "3.0\n"
     ]
    }
   ],
   "source": [
    "z = 2 + 3j\n",
    "print(z.real)\n",
    "print(z.imag)"
   ]
  },
  {
   "cell_type": "code",
   "execution_count": 39,
   "id": "d5c2c156",
   "metadata": {},
   "outputs": [
    {
     "name": "stdout",
     "output_type": "stream",
     "text": [
      "[(-2+1j), (-2-1j)]\n",
      "[(-1+0j), (-1+0j)]\n",
      "[(2+0j), (-2+0j)]\n",
      "[(4+0j), (-1+0j)]\n"
     ]
    }
   ],
   "source": [
    "def quadratic_equation(a, b, c):\n",
    "    D = b ** 2 - 4 * a * c\n",
    "    return [(-b + cmath.sqrt(D)) / (2 * a),\n",
    "           (-b - cmath.sqrt(D)) / (2 * a)]\n",
    "\n",
    "print(quadratic_equation(1, 4, 5))\n",
    "print(quadratic_equation(1, 2, 1))\n",
    "print(quadratic_equation(1, 0, -4))\n",
    "print(quadratic_equation(1, -3, -4))"
   ]
  },
  {
   "cell_type": "code",
   "execution_count": null,
   "id": "fe5035e5",
   "metadata": {},
   "outputs": [],
   "source": []
  }
 ],
 "metadata": {
  "kernelspec": {
   "display_name": "Python 3 (ipykernel)",
   "language": "python",
   "name": "python3"
  },
  "language_info": {
   "codemirror_mode": {
    "name": "ipython",
    "version": 3
   },
   "file_extension": ".py",
   "mimetype": "text/x-python",
   "name": "python",
   "nbconvert_exporter": "python",
   "pygments_lexer": "ipython3",
   "version": "3.11.5"
  }
 },
 "nbformat": 4,
 "nbformat_minor": 5
}
