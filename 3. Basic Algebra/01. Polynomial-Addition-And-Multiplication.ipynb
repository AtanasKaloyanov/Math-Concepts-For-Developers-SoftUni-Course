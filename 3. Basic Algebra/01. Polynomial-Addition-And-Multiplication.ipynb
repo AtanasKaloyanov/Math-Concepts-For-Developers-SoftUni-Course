{
 "cells": [
  {
   "cell_type": "code",
   "execution_count": 32,
   "id": "a8ca8cc9",
   "metadata": {},
   "outputs": [],
   "source": [
    "import numpy.polynomial.polynomial as p\n",
    "import sympy"
   ]
  },
  {
   "cell_type": "markdown",
   "id": "29ed4676",
   "metadata": {},
   "source": [
    "$$ (2x^4 + 3x^2) + (5x^4 + 2x^2)$$"
   ]
  },
  {
   "cell_type": "code",
   "execution_count": 71,
   "id": "efc98380",
   "metadata": {},
   "outputs": [
    {
     "data": {
      "text/latex": [
       "$\\displaystyle \\operatorname{Poly}{\\left( 7.0 x^{4} + 5.0 x^{2}, x, domain=\\mathbb{R} \\right)}$"
      ],
      "text/plain": [
       "Poly(7.0*x**4 + 5.0*x**2, x, domain='RR')"
      ]
     },
     "execution_count": 71,
     "metadata": {},
     "output_type": "execute_result"
    }
   ],
   "source": [
    "first = [0, 0, 3, 0, 2]\n",
    "second = [0, 0, 2, 0, 5]\n",
    "\n",
    "answer = p.polyadd(first, second)\n",
    "answer\n",
    "x = sympy.symbols(\"x\")\n",
    "sympy.Poly(answer[::-1], x)"
   ]
  },
  {
   "cell_type": "markdown",
   "id": "8cf08610",
   "metadata": {},
   "source": [
    "### Addition and multiplication examples"
   ]
  },
  {
   "cell_type": "code",
   "execution_count": 3,
   "id": "e12683b1",
   "metadata": {},
   "outputs": [
    {
     "data": {
      "text/plain": [
       "array([ 101., 1002.,    3.])"
      ]
     },
     "execution_count": 3,
     "metadata": {},
     "output_type": "execute_result"
    }
   ],
   "source": [
    "p.polyadd([1, 2, 3], [100, 1000])"
   ]
  },
  {
   "cell_type": "code",
   "execution_count": 54,
   "id": "e7305f7f",
   "metadata": {},
   "outputs": [
    {
     "data": {
      "text/latex": [
       "$\\displaystyle \\operatorname{Poly}{\\left( x^{2} + 2 x + 3, x, domain=\\mathbb{Z} \\right)}$"
      ],
      "text/plain": [
       "Poly(x**2 + 2*x + 3, x, domain='ZZ')"
      ]
     },
     "execution_count": 54,
     "metadata": {},
     "output_type": "execute_result"
    }
   ],
   "source": [
    "sympy.Poly([1, 2, 3], x)"
   ]
  },
  {
   "cell_type": "code",
   "execution_count": null,
   "id": "0aeeedec",
   "metadata": {},
   "outputs": [],
   "source": [
    "(x^2 + 2x + 3) + (100x + 1000) = x^2 + 102x + 1003 = [1 ,102,1003]"
   ]
  },
  {
   "cell_type": "code",
   "execution_count": 4,
   "id": "aea52283",
   "metadata": {},
   "outputs": [
    {
     "data": {
      "text/plain": [
       "array([10., 27., 38., 24.])"
      ]
     },
     "execution_count": 4,
     "metadata": {},
     "output_type": "execute_result"
    }
   ],
   "source": [
    "p.polymul([2, 3, 4], [5, 6])"
   ]
  },
  {
   "cell_type": "code",
   "execution_count": 14,
   "id": "384acd03",
   "metadata": {},
   "outputs": [
    {
     "data": {
      "text/plain": [
       "[8, 7, 6, 5, 4, 3, 2, 1]"
      ]
     },
     "execution_count": 14,
     "metadata": {},
     "output_type": "execute_result"
    }
   ],
   "source": [
    "[1, 2, 3, 4, 5, 6, 7, 8][::-1]"
   ]
  },
  {
   "cell_type": "code",
   "execution_count": null,
   "id": "78d68b27",
   "metadata": {},
   "outputs": [],
   "source": []
  }
 ],
 "metadata": {
  "kernelspec": {
   "display_name": "Python 3 (ipykernel)",
   "language": "python",
   "name": "python3"
  },
  "language_info": {
   "codemirror_mode": {
    "name": "ipython",
    "version": 3
   },
   "file_extension": ".py",
   "mimetype": "text/x-python",
   "name": "python",
   "nbconvert_exporter": "python",
   "pygments_lexer": "ipython3",
   "version": "3.11.5"
  }
 },
 "nbformat": 4,
 "nbformat_minor": 5
}
