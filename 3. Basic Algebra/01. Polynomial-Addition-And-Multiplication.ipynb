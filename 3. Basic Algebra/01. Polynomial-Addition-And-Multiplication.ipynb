{
 "cells": [
  {
   "cell_type": "code",
   "execution_count": 4,
   "id": "a8ca8cc9",
   "metadata": {},
   "outputs": [],
   "source": [
    "import numpy.polynomial.polynomial as p"
   ]
  },
  {
   "cell_type": "code",
   "execution_count": 5,
   "id": "e12683b1",
   "metadata": {},
   "outputs": [
    {
     "data": {
      "text/plain": [
       "array([ 101., 1002.,    3.])"
      ]
     },
     "execution_count": 5,
     "metadata": {},
     "output_type": "execute_result"
    }
   ],
   "source": [
    "p.polyadd([1, 2, 3], [100, 1000])"
   ]
  },
  {
   "cell_type": "code",
   "execution_count": 7,
   "id": "aea52283",
   "metadata": {},
   "outputs": [
    {
     "data": {
      "text/plain": [
       "array([10., 27., 38., 24.])"
      ]
     },
     "execution_count": 7,
     "metadata": {},
     "output_type": "execute_result"
    }
   ],
   "source": [
    "p.polymul([2, 3, 4], [5, 6])"
   ]
  },
  {
   "cell_type": "code",
   "execution_count": null,
   "id": "384acd03",
   "metadata": {},
   "outputs": [],
   "source": []
  }
 ],
 "metadata": {
  "kernelspec": {
   "display_name": "Python 3 (ipykernel)",
   "language": "python",
   "name": "python3"
  },
  "language_info": {
   "codemirror_mode": {
    "name": "ipython",
    "version": 3
   },
   "file_extension": ".py",
   "mimetype": "text/x-python",
   "name": "python",
   "nbconvert_exporter": "python",
   "pygments_lexer": "ipython3",
   "version": "3.11.5"
  }
 },
 "nbformat": 4,
 "nbformat_minor": 5
}
