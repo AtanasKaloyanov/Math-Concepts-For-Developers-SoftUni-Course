{
 "cells": [
  {
   "cell_type": "markdown",
   "id": "eae4cb7d",
   "metadata": {},
   "source": [
    "This is some text.\n",
    "This text in on a new line, but in the same paragraph."
   ]
  },
  {
   "cell_type": "markdown",
   "id": "82050fc6",
   "metadata": {},
   "source": [
    "This text in displayed in a new paragraph."
   ]
  },
  {
   "cell_type": "markdown",
   "id": "78cd66d5",
   "metadata": {},
   "source": [
    "And this is yet another paragraph"
   ]
  },
  {
   "cell_type": "markdown",
   "id": "ec710c3e",
   "metadata": {},
   "source": [
    "# Heading 1"
   ]
  },
  {
   "cell_type": "markdown",
   "id": "64cea110",
   "metadata": {},
   "source": [
    "## Heading 2"
   ]
  },
  {
   "cell_type": "markdown",
   "id": "1a385151",
   "metadata": {},
   "source": [
    "### Heading 3"
   ]
  },
  {
   "cell_type": "markdown",
   "id": "a01ebab9",
   "metadata": {},
   "source": [
    "#### Heading 4"
   ]
  },
  {
   "cell_type": "markdown",
   "id": "126e2814",
   "metadata": {},
   "source": [
    "##### Heading 5"
   ]
  },
  {
   "cell_type": "markdown",
   "id": "f3decc5f",
   "metadata": {},
   "source": [
    "###### Heading 6"
   ]
  },
  {
   "cell_type": "markdown",
   "id": "d4fbb775",
   "metadata": {},
   "source": [
    "**bold** __bold__ *italic* _italic_"
   ]
  },
  {
   "cell_type": "markdown",
   "id": "484157d1",
   "metadata": {},
   "source": [
    "This is not \\*\\*bold\\*\\* \\_\\_bold\\_\\_"
   ]
  },
  {
   "cell_type": "markdown",
   "id": "d0779543",
   "metadata": {},
   "source": [
    "This is not \\*italic\\* \\_italic\\_"
   ]
  },
  {
   "cell_type": "markdown",
   "id": "f3e798c7",
   "metadata": {},
   "source": [
    "I ~~didn't~~ make a mistake"
   ]
  },
  {
   "cell_type": "markdown",
   "id": "5499665b",
   "metadata": {},
   "source": [
    "1. First\n",
    "20. Second\n",
    "10. Third\n",
    "\n"
   ]
  },
  {
   "cell_type": "markdown",
   "id": "cf362b02",
   "metadata": {},
   "source": [
    "+ First\n",
    "+ Second\n",
    "    1. Second First\n",
    "    2. Second Second\n",
    "+ Third\n",
    "    - Third First\n",
    "    - Third Second\n",
    "        * Third Second First\n",
    "        * Third Second Second"
   ]
  },
  {
   "cell_type": "markdown",
   "id": "69216cfe",
   "metadata": {},
   "source": [
    "This is [a link](https://www.facebook.com) to facebook"
   ]
  },
  {
   "cell_type": "markdown",
   "id": "e80bbf8d",
   "metadata": {},
   "source": [
    "![text by non-existing picture](https://images.unsplash.com/photo-1522850888141-ed8cb70c9c4d?q=80&w=1605&auto=format&fit=crop&ixlib=rb-4.0.3&ixid=M3wxMjA3fDB8MHxwaG90by1wYWdlfHx8fGVufDB8fHx8fA%3D%3D)"
   ]
  },
  {
   "cell_type": "markdown",
   "id": "ee312d45",
   "metadata": {},
   "source": [
    "| 1  | 2  | 3  | 4  | 5  |\n",
    "|----|----|----|----|----|\n",
    "| 6  | 7  | 8  | 9  | 10 |\n",
    "| 11 | 12 | 13 | 14 | 15 |\n",
    "| 16 | 17 | 18 | 19 | 20 |"
   ]
  },
  {
   "cell_type": "markdown",
   "id": "d9c153b9",
   "metadata": {},
   "source": [
    "```python\n",
    "def square(x):\n",
    "return x**2\n",
    "```"
   ]
  },
  {
   "cell_type": "markdown",
   "id": "e01ba5e2",
   "metadata": {},
   "source": [
    "This is `inline code`."
   ]
  }
 ],
 "metadata": {
  "kernelspec": {
   "display_name": "Python 3 (ipykernel)",
   "language": "python",
   "name": "python3"
  },
  "language_info": {
   "codemirror_mode": {
    "name": "ipython",
    "version": 3
   },
   "file_extension": ".py",
   "mimetype": "text/x-python",
   "name": "python",
   "nbconvert_exporter": "python",
   "pygments_lexer": "ipython3",
   "version": "3.11.5"
  }
 },
 "nbformat": 4,
 "nbformat_minor": 5
}
