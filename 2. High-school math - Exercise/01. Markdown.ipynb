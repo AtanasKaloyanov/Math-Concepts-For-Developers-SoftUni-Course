{
 "cells": [
  {
   "cell_type": "markdown",
   "id": "d5f81298",
   "metadata": {},
   "source": [
    "This is some text.\n",
    "This text in on a new line, but in the same paragraph."
   ]
  },
  {
   "cell_type": "markdown",
   "id": "accd030d",
   "metadata": {},
   "source": [
    "This text in displayed in a new paragraph."
   ]
  },
  {
   "cell_type": "markdown",
   "id": "90eeb286",
   "metadata": {},
   "source": [
    "And this is yet another paragraph"
   ]
  },
  {
   "cell_type": "markdown",
   "id": "57afe1c0",
   "metadata": {},
   "source": [
    "# Heading 1"
   ]
  },
  {
   "cell_type": "markdown",
   "id": "f1c31222",
   "metadata": {},
   "source": [
    "## Heading 2"
   ]
  },
  {
   "cell_type": "markdown",
   "id": "c586b4f1",
   "metadata": {},
   "source": [
    "### Heading 3"
   ]
  },
  {
   "cell_type": "markdown",
   "id": "78c702d5",
   "metadata": {},
   "source": [
    "#### Heading 4"
   ]
  },
  {
   "cell_type": "markdown",
   "id": "cc02b0f8",
   "metadata": {},
   "source": [
    "##### Heading 5"
   ]
  },
  {
   "cell_type": "markdown",
   "id": "011f417a",
   "metadata": {},
   "source": [
    "###### Heading 6"
   ]
  },
  {
   "cell_type": "markdown",
   "id": "f5765789",
   "metadata": {},
   "source": [
    "**bold** __bold__ *italic* _italic_"
   ]
  },
  {
   "cell_type": "markdown",
   "id": "3962caeb",
   "metadata": {},
   "source": [
    "This is not \\*\\*bold\\*\\* \\_\\_bold\\_\\_"
   ]
  },
  {
   "cell_type": "markdown",
   "id": "c990fa23",
   "metadata": {},
   "source": [
    "This is not \\*italic\\* \\_italic\\_"
   ]
  },
  {
   "cell_type": "markdown",
   "id": "b57c9bdc",
   "metadata": {},
   "source": [
    "I ~~didn't~~ make a mistake"
   ]
  },
  {
   "cell_type": "markdown",
   "id": "531eb862",
   "metadata": {},
   "source": [
    "1. First\n",
    "20. Second\n",
    "10. Third\n",
    "\n"
   ]
  },
  {
   "cell_type": "markdown",
   "id": "54ba5df9",
   "metadata": {},
   "source": [
    "+ First\n",
    "+ Second\n",
    "    1. Second First\n",
    "    2. Second Second\n",
    "+ Third\n",
    "    - Third First\n",
    "    - Third Second\n",
    "        * Third Second First\n",
    "        * Third Second Second"
   ]
  },
  {
   "cell_type": "markdown",
   "id": "bfccff6d",
   "metadata": {},
   "source": [
    "This is [a link](https://www.facebook.com) to facebook"
   ]
  },
  {
   "cell_type": "markdown",
   "id": "80122ea2",
   "metadata": {},
   "source": [
    "![text by non-existing picture](https://images.unsplash.com/photo-1522850888141-ed8cb70c9c4d?q=80&w=1605&auto=format&fit=crop&ixlib=rb-4.0.3&ixid=M3wxMjA3fDB8MHxwaG90by1wYWdlfHx8fGVufDB8fHx8fA%3D%3D)"
   ]
  },
  {
   "cell_type": "markdown",
   "id": "c901bed4",
   "metadata": {},
   "source": [
    "| 1  | 2  | 3  | 4  | 5  |\n",
    "|----|----|----|----|----|\n",
    "| 6  | 7  | 8  | 9  | 10 |\n",
    "| 11 | 12 | 13 | 14 | 15 |\n",
    "| 16 | 17 | 18 | 19 | 20 |"
   ]
  },
  {
   "cell_type": "markdown",
   "id": "e9de6667",
   "metadata": {},
   "source": [
    "```python\n",
    "def square(x):\n",
    "return x**2\n",
    "```"
   ]
  },
  {
   "cell_type": "markdown",
   "id": "f3ec831f",
   "metadata": {},
   "source": [
    "This is `inline code`."
   ]
  },
  {
   "cell_type": "code",
   "execution_count": null,
   "id": "774076f6",
   "metadata": {},
   "outputs": [],
   "source": []
  }
 ],
 "metadata": {
  "kernelspec": {
   "display_name": "Python 3 (ipykernel)",
   "language": "python",
   "name": "python3"
  },
  "language_info": {
   "codemirror_mode": {
    "name": "ipython",
    "version": 3
   },
   "file_extension": ".py",
   "mimetype": "text/x-python",
   "name": "python",
   "nbconvert_exporter": "python",
   "pygments_lexer": "ipython3",
   "version": "3.11.5"
  }
 },
 "nbformat": 4,
 "nbformat_minor": 5
}
