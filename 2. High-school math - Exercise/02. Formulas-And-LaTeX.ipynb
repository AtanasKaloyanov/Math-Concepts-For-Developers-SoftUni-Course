{
 "cells": [
  {
   "cell_type": "markdown",
   "id": "8b32c218",
   "metadata": {},
   "source": [
    "Equation of a line: $$y = ax + b$$"
   ]
  },
  {
   "cell_type": "markdown",
   "id": "3f1520f2",
   "metadata": {},
   "source": [
    "Roots of the quadratic equation $a^2x + bx + c = 0$ :\n",
    "\n",
    "$$x_{1,2} = \\frac{-b \\pm \\sqrt{b^2 - 4ac}}{2a}$$"
   ]
  },
  {
   "cell_type": "markdown",
   "id": "42b349e4",
   "metadata": {},
   "source": [
    "Taylor series expansion: $$f(x)|_{x=a} = f(a) + f'(a)(x - a) + \\frac{f''(a)}{2!}(x - a)^2 + \\cdots + \\frac{f ^ n(a)}{n!}(x - a)^n + \\cdots $$"
   ]
  },
  {
   "cell_type": "markdown",
   "id": "145362c9",
   "metadata": {},
   "source": [
    "Binomial theorem: $$(x + y) ^ n = \\binom{n}{0} x^n y^0 + \\binom{n}{1}x ^ {n-1}y ^ 1 + \\cdots + \\binom{n}{n}x ^ 0 y ^ n = \\sum ^ n _{k = 0} \\binom{n}{k}x ^ {n - k}y^k$$"
   ]
  },
  {
   "cell_type": "markdown",
   "id": "49500740",
   "metadata": {},
   "source": [
    "An integral: $$\\int _{-\\infty}^{+\\infty}e ^ {-x ^ 2}dx = \\sqrt{\\Pi}$$"
   ]
  },
  {
   "cell_type": "markdown",
   "id": "1e7f01b3",
   "metadata": {},
   "source": [
    "A short matrix: \n",
    "$$\\begin{pmatrix} \n",
    "2 & 1 & 3 \\\\\n",
    "2 & 6 & 8 \\\\\n",
    "6 & 8 & 18 \\\\\n",
    "\\end{pmatrix}$$"
   ]
  },
  {
   "cell_type": "markdown",
   "id": "9284e3ab",
   "metadata": {},
   "source": [
    "A long matrix: \n",
    "$$A = \n",
    "\\begin{pmatrix}\n",
    "a_{11} & a_{12} & \\cdots & a_{1n} \\\\\n",
    "a_{21} & a_{22} & \\cdots & a_{2n} \\\\\n",
    "\\vdots & \\vdots & \\ddots & \\vdots \\\\\n",
    "a_{m1} & a_{m2} & \\cdots & a_{mn} \\\\\n",
    "\\end{pmatrix}\n",
    "$$"
   ]
  },
  {
   "cell_type": "code",
   "execution_count": null,
   "id": "19d75562",
   "metadata": {},
   "outputs": [],
   "source": []
  }
 ],
 "metadata": {
  "kernelspec": {
   "display_name": "Python 3 (ipykernel)",
   "language": "python",
   "name": "python3"
  },
  "language_info": {
   "codemirror_mode": {
    "name": "ipython",
    "version": 3
   },
   "file_extension": ".py",
   "mimetype": "text/x-python",
   "name": "python",
   "nbconvert_exporter": "python",
   "pygments_lexer": "ipython3",
   "version": "3.11.5"
  }
 },
 "nbformat": 4,
 "nbformat_minor": 5
}
