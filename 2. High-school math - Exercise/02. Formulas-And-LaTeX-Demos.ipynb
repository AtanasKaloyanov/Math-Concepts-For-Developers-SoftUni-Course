{
 "cells": [
  {
   "cell_type": "markdown",
   "id": "c7789ce0",
   "metadata": {},
   "source": [
    "This is a linear equation example - $ax + b = 0$ "
   ]
  },
  {
   "cell_type": "markdown",
   "id": "098a269f",
   "metadata": {},
   "source": [
    "Another example for linear equation $$ax + b = 0$$"
   ]
  },
  {
   "cell_type": "markdown",
   "id": "342f070a",
   "metadata": {},
   "source": [
    "$\\frac{2}{3}$"
   ]
  },
  {
   "cell_type": "markdown",
   "id": "64dd5c16",
   "metadata": {},
   "source": [
    "$$\\frac{2}{3}$$"
   ]
  },
  {
   "cell_type": "markdown",
   "id": "e7e573b9",
   "metadata": {},
   "source": [
    "$\\sqrt{abc}$"
   ]
  },
  {
   "cell_type": "markdown",
   "id": "c4ba6430",
   "metadata": {},
   "source": [
    "$\\pm\\sqrt{D}$"
   ]
  },
  {
   "cell_type": "markdown",
   "id": "7bb95341",
   "metadata": {},
   "source": [
    "$$\\begin{pmatrix}\n",
    "1 & 2 & 3 \\\\\n",
    "4 & 5 & 6 \\\\\n",
    "7 & 8 & 9 \\\\\n",
    "\\end{pmatrix}$$\n"
   ]
  },
  {
   "cell_type": "markdown",
   "id": "a2f2e5d6",
   "metadata": {},
   "source": [
    "\\begin{equation*}\n",
    "A_{m,n} = \n",
    "\\begin{pmatrix}\n",
    "a_{1,1} & a_{1,2} & \\cdots & a_{1,n} \\\\\n",
    "a_{2,1} & a_{2,2} & \\cdots & a_{2,n} \\\\\n",
    "\\vdots  & \\vdots  & \\ddots & \\vdots  \\\\\n",
    "a_{m,1} & a_{m,2} & \\cdots & a_{m,n} \n",
    "\\end{pmatrix}\n",
    "\\end{equation*}"
   ]
  },
  {
   "cell_type": "markdown",
   "id": "ba8f0fd5",
   "metadata": {},
   "source": [
    "$+\\infty$        $-\\infty$"
   ]
  },
  {
   "cell_type": "markdown",
   "id": "78d04e56",
   "metadata": {},
   "source": [
    "$\\int$"
   ]
  },
  {
   "cell_type": "code",
   "execution_count": null,
   "id": "3cc20f1a",
   "metadata": {},
   "outputs": [],
   "source": []
  }
 ],
 "metadata": {
  "kernelspec": {
   "display_name": "Python 3 (ipykernel)",
   "language": "python",
   "name": "python3"
  },
  "language_info": {
   "codemirror_mode": {
    "name": "ipython",
    "version": 3
   },
   "file_extension": ".py",
   "mimetype": "text/x-python",
   "name": "python",
   "nbconvert_exporter": "python",
   "pygments_lexer": "ipython3",
   "version": "3.11.5"
  }
 },
 "nbformat": 4,
 "nbformat_minor": 5
}
