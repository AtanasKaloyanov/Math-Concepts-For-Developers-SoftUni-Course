{
 "cells": [
  {
   "cell_type": "code",
   "execution_count": 2,
   "id": "2b7db994",
   "metadata": {},
   "outputs": [],
   "source": [
    "import numpy as np"
   ]
  },
  {
   "cell_type": "code",
   "execution_count": 6,
   "id": "96560754",
   "metadata": {},
   "outputs": [
    {
     "name": "stdout",
     "output_type": "stream",
     "text": [
      "[[ 3  6  7]\n",
      " [10 13  2]]\n",
      "[[ 4  6 14]\n",
      " [16 18  2]]\n",
      "[[ 2  9  0]\n",
      " [16 36  1]]\n",
      "[[11 23]\n",
      " [35 53]]\n"
     ]
    }
   ],
   "source": [
    "A = np.array([\n",
    "[2 , 3 , 7],\n",
    "[8 , 9 , 1]]\n",
    ")\n",
    "\n",
    "B = np.array([\n",
    "[1 , 3 , 0],\n",
    "[2 , 4 , 1]\n",
    "])\n",
    "\n",
    "print(A + B)\n",
    "print(2 * A)\n",
    "print(A * B)\n",
    "# Element wise multiplication\n",
    "# print(A.dot(B))\n",
    "# Error: incompatible dimensions\n",
    "print(A.dot(B.T))\n",
    "# Matrix multiplication"
   ]
  },
  {
   "cell_type": "code",
   "execution_count": null,
   "id": "89dccb06",
   "metadata": {},
   "outputs": [],
   "source": []
  }
 ],
 "metadata": {
  "kernelspec": {
   "display_name": "Python 3 (ipykernel)",
   "language": "python",
   "name": "python3"
  },
  "language_info": {
   "codemirror_mode": {
    "name": "ipython",
    "version": 3
   },
   "file_extension": ".py",
   "mimetype": "text/x-python",
   "name": "python",
   "nbconvert_exporter": "python",
   "pygments_lexer": "ipython3",
   "version": "3.11.5"
  }
 },
 "nbformat": 4,
 "nbformat_minor": 5
}
