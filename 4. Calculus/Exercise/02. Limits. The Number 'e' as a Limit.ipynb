{
 "cells": [
  {
   "cell_type": "code",
   "execution_count": 1,
   "id": "4c7d0a0b",
   "metadata": {},
   "outputs": [],
   "source": [
    "import numpy as np"
   ]
  },
  {
   "cell_type": "code",
   "execution_count": 2,
   "id": "20365f11",
   "metadata": {},
   "outputs": [],
   "source": [
    "def calculate_limit_at_infinity(function):\n",
    "    \"\"\"\n",
    "    Calculates a numerical approximation of the limit of the specified function\n",
    "    as its parameter goes to infinity\n",
    "    \"\"\"\n",
    "    n = 10 ** np.arange(0, 10)\n",
    "    return zip(n, function(n))"
   ]
  },
  {
   "cell_type": "code",
   "execution_count": 3,
   "id": "a49657f5",
   "metadata": {},
   "outputs": [
    {
     "name": "stdout",
     "output_type": "stream",
     "text": [
      "(1, 2.0)\n",
      "(10, 2.5937424601000023)\n",
      "(100, 2.7048138294215285)\n",
      "(1000, 2.7169239322355936)\n",
      "(10000, 2.7181459268249255)\n",
      "(100000, 2.7182682371922975)\n",
      "(1000000, 2.7182804690957534)\n",
      "(10000000, 2.7182816941320818)\n",
      "(100000000, 2.7182817983473577)\n",
      "(1000000000, 2.7182820520115603)\n"
     ]
    }
   ],
   "source": [
    "limits = calculate_limit_at_infinity(lambda x: (1 + 1 / x) ** x)\n",
    "for limit in limits:\n",
    "    print(limit)"
   ]
  },
  {
   "cell_type": "code",
   "execution_count": null,
   "id": "f764eadd",
   "metadata": {},
   "outputs": [],
   "source": []
  }
 ],
 "metadata": {
  "kernelspec": {
   "display_name": "Python 3 (ipykernel)",
   "language": "python",
   "name": "python3"
  },
  "language_info": {
   "codemirror_mode": {
    "name": "ipython",
    "version": 3
   },
   "file_extension": ".py",
   "mimetype": "text/x-python",
   "name": "python",
   "nbconvert_exporter": "python",
   "pygments_lexer": "ipython3",
   "version": "3.11.5"
  }
 },
 "nbformat": 4,
 "nbformat_minor": 5
}
