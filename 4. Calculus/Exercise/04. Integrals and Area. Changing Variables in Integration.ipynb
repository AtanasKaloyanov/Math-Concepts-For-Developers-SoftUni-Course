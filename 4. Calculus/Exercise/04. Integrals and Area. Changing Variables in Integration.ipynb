{
 "cells": [
  {
   "cell_type": "code",
   "execution_count": 1,
   "id": "a4be2b4b",
   "metadata": {},
   "outputs": [],
   "source": [
    "import numpy as np"
   ]
  },
  {
   "cell_type": "code",
   "execution_count": 2,
   "id": "f1b1f0d4",
   "metadata": {},
   "outputs": [],
   "source": [
    "def calculate_integral(function, x_min, x_max, num_points = 5000):\n",
    "    x = np.linspace(x_min, x_max, num_points)\n",
    "    delta_x = (x_max - x_min) / num_points\n",
    "    y = function(x)\n",
    "    inner_sum = np.sum(2 * y)\n",
    "    inner_sum = inner_sum - y[0] - y[1]\n",
    "    return inner_sum * delta_x / 2"
   ]
  },
  {
   "cell_type": "code",
   "execution_count": 3,
   "id": "95b90c7a",
   "metadata": {},
   "outputs": [
    {
     "name": "stdout",
     "output_type": "stream",
     "text": [
      "0.3333666733306654\n",
      "0.5277463475027832\n"
     ]
    }
   ],
   "source": [
    "print(calculate_integral(lambda x: x ** 2, 0, 1)) \n",
    "print(calculate_integral(lambda x: np.sin(x ** 2), 0, 5)) "
   ]
  },
  {
   "cell_type": "code",
   "execution_count": null,
   "id": "bda63552",
   "metadata": {},
   "outputs": [],
   "source": []
  }
 ],
 "metadata": {
  "kernelspec": {
   "display_name": "Python 3 (ipykernel)",
   "language": "python",
   "name": "python3"
  },
  "language_info": {
   "codemirror_mode": {
    "name": "ipython",
    "version": 3
   },
   "file_extension": ".py",
   "mimetype": "text/x-python",
   "name": "python",
   "nbconvert_exporter": "python",
   "pygments_lexer": "ipython3",
   "version": "3.11.5"
  }
 },
 "nbformat": 4,
 "nbformat_minor": 5
}
