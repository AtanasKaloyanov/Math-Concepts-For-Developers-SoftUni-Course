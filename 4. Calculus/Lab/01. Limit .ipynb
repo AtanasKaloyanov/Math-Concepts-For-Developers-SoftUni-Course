{
 "cells": [
  {
   "cell_type": "code",
   "execution_count": 2,
   "id": "b43a81ce",
   "metadata": {
    "tags": []
   },
   "outputs": [],
   "source": [
    "import numpy as np"
   ]
  },
  {
   "cell_type": "code",
   "execution_count": 3,
   "id": "42223a02",
   "metadata": {
    "tags": []
   },
   "outputs": [
    {
     "name": "stdout",
     "output_type": "stream",
     "text": [
      "[3.00000000e+00 1.20000000e+01 1.02000000e+02 1.00200000e+03\n",
      " 1.00020000e+04 1.00002000e+05 1.00000200e+06 1.00000020e+07\n",
      " 1.00000002e+08 1.00000000e+09 1.00000000e+10 1.00000000e+10\n",
      " 1.00000000e+09 1.00000002e+08 1.00000020e+07 1.00000200e+06\n",
      " 1.00002000e+05 1.00020000e+04 1.00200000e+03 1.02000000e+02\n",
      " 1.20000000e+01 3.00000000e+00]\n",
      "[1.80000000e+01 1.80000000e+02 1.07100000e+04 1.00701000e+06\n",
      " 1.00070010e+08 1.00007000e+10 1.00000700e+12 1.00000070e+14\n",
      " 1.00000007e+16 1.00000001e+18 1.00000000e+20 1.00000000e+20\n",
      " 1.00000001e+18 1.00000007e+16 1.00000070e+14 1.00000700e+12\n",
      " 1.00007000e+10 1.00070010e+08 1.00701000e+06 1.07100000e+04\n",
      " 1.80000000e+02 1.80000000e+01]\n"
     ]
    }
   ],
   "source": [
    "def get_limit(f, a):\n",
    "    epsilon = np.array([\n",
    "     10 ** p\n",
    "     for p in np.arange(0 , 11 , 1 , dtype = float)])\n",
    "    x = np.append(a + epsilon, (a + epsilon)[::-1])\n",
    "    print(x)\n",
    "    y = f(x)\n",
    "    return y\n",
    "print(get_limit(lambda x: x ** 2 , 3))\n",
    "print (get_limit(lambda x: x ** 2 + 3 * x, 2))\n",
    "print(get_limit(lambda x: np.sin(x), 0))"
   ]
  },
  {
   "cell_type": "code",
   "execution_count": 19,
   "id": "b0b90593",
   "metadata": {},
   "outputs": [
    {
     "name": "stdout",
     "output_type": "stream",
     "text": [
      "[ 5  8 23 23  8  5]\n"
     ]
    }
   ],
   "source": [
    "example_array = np.array([2, 5 , 20])\n",
    "z = np.append(3 + example_array, (3 + example_array)[::-1])\n",
    "print(z)"
   ]
  },
  {
   "cell_type": "code",
   "execution_count": null,
   "id": "95ad3149",
   "metadata": {},
   "outputs": [],
   "source": []
  }
 ],
 "metadata": {
  "kernelspec": {
   "display_name": "Python 3 (ipykernel)",
   "language": "python",
   "name": "python3"
  },
  "language_info": {
   "codemirror_mode": {
    "name": "ipython",
    "version": 3
   },
   "file_extension": ".py",
   "mimetype": "text/x-python",
   "name": "python",
   "nbconvert_exporter": "python",
   "pygments_lexer": "ipython3",
   "version": "3.11.5"
  }
 },
 "nbformat": 4,
 "nbformat_minor": 5
}
