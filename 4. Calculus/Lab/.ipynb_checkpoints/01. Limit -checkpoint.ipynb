{
 "cells": [
  {
   "cell_type": "code",
   "execution_count": 1,
   "id": "b43a81ce",
   "metadata": {
    "tags": []
   },
   "outputs": [],
   "source": [
    "import numpy as np"
   ]
  },
  {
   "cell_type": "code",
   "execution_count": 2,
   "id": "42223a02",
   "metadata": {
    "tags": []
   },
   "outputs": [
    {
     "name": "stdout",
     "output_type": "stream",
     "text": [
      "[1.e+00 1.e+01 1.e+02 1.e+03 1.e+04 1.e+05 1.e+06 1.e+07 1.e+08 1.e+09\n",
      " 1.e+10]\n",
      "[1.60000000e+01 1.69000000e+02 1.06090000e+04 1.00600900e+06\n",
      " 1.00060009e+08 1.00006000e+10 1.00000600e+12 1.00000060e+14\n",
      " 1.00000006e+16 1.00000001e+18 1.00000000e+20 1.00000000e+20\n",
      " 1.00000001e+18 1.00000006e+16 1.00000060e+14 1.00000600e+12\n",
      " 1.00006000e+10 1.00060009e+08 1.00600900e+06 1.06090000e+04\n",
      " 1.69000000e+02 1.60000000e+01]\n",
      "[1.e+00 1.e+01 1.e+02 1.e+03 1.e+04 1.e+05 1.e+06 1.e+07 1.e+08 1.e+09\n",
      " 1.e+10]\n",
      "[1.80000000e+01 1.80000000e+02 1.07100000e+04 1.00701000e+06\n",
      " 1.00070010e+08 1.00007000e+10 1.00000700e+12 1.00000070e+14\n",
      " 1.00000007e+16 1.00000001e+18 1.00000000e+20 1.00000000e+20\n",
      " 1.00000001e+18 1.00000007e+16 1.00000070e+14 1.00000700e+12\n",
      " 1.00007000e+10 1.00070010e+08 1.00701000e+06 1.07100000e+04\n",
      " 1.80000000e+02 1.80000000e+01]\n",
      "[1.e+00 1.e+01 1.e+02 1.e+03 1.e+04 1.e+05 1.e+06 1.e+07 1.e+08 1.e+09\n",
      " 1.e+10]\n",
      "[ 0.84147098 -0.54402111 -0.50636564  0.82687954 -0.30561439  0.0357488\n",
      " -0.3499935   0.42054779  0.93163903  0.54584345 -0.48750603 -0.48750603\n",
      "  0.54584345  0.93163903  0.42054779 -0.3499935   0.0357488  -0.30561439\n",
      "  0.82687954 -0.50636564 -0.54402111  0.84147098]\n"
     ]
    }
   ],
   "source": [
    "def get_limit(f, a):\n",
    "    epsilon = np.array([\n",
    "     10 ** p\n",
    "     for p in np.arange( 0 , 11 , 1 , dtype = float)])\n",
    "    print(epsilon)\n",
    "    x = np.append(a + epsilon, (a + epsilon)[::-1])\n",
    "    y = f(x)\n",
    "    return y\n",
    "print(get_limit(lambda x: x ** 2 , 3))\n",
    "print (get_limit(lambda x: x ** 2 + 3 * x, 2))\n",
    "print(get_limit(lambda x: np.sin(x), 0))"
   ]
  },
  {
   "cell_type": "code",
   "execution_count": null,
   "id": "95ad3149",
   "metadata": {},
   "outputs": [],
   "source": []
  }
 ],
 "metadata": {
  "kernelspec": {
   "display_name": "Python 3 (ipykernel)",
   "language": "python",
   "name": "python3"
  },
  "language_info": {
   "codemirror_mode": {
    "name": "ipython",
    "version": 3
   },
   "file_extension": ".py",
   "mimetype": "text/x-python",
   "name": "python",
   "nbconvert_exporter": "python",
   "pygments_lexer": "ipython3",
   "version": "3.11.5"
  }
 },
 "nbformat": 4,
 "nbformat_minor": 5
}
